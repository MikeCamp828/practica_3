{
 "cells": [
  {
   "cell_type": "code",
   "execution_count": 8,
   "id": "2395b5d4",
   "metadata": {},
   "outputs": [],
   "source": [
    "class Calculadora: #definimos la clase calculadora\n",
    "    def __init__(self): #usamos un constructor donde iniciamos las variables en 0\n",
    "        self.entero = 0\n",
    "        self.flotante = 0.0\n",
    "        self.doble = 0.0\n",
    "#el metodo suma de la clase Calculadora recibe dos argumentos dinamicos en tipo y retorna su suma\n",
    "    def suma(self, a, b):\n",
    "        return a + b\n",
    "#el metodo resta de la clase Calculadora recibe dos argumentos dinamicos en tipo y retorna su resta\n",
    "    def resta(self, a, b):\n",
    "        return a - b\n",
    "#el metodo multiplicacion de la clase Calculadora recibe dos parametros dinamicos en tipo o sobrecargados\n",
    "    def multiplicacion(self, a, b):\n",
    "        resultado = 0 #definimos resultado en 0\n",
    "        if b < 0: #cambio de signo en caso de numero negativo\n",
    "            a = -a\n",
    "            b = -b\n",
    "        for i in range(b): #ciclo for de 0 a b\n",
    "            resultado += a #a a se se sema lo que vale b veces\n",
    "        return resultado #regresamos resultado\n",
    "#el metodo division de la clase Calculadora recibe dos parametros dinamicos en tipo o sobrecargados\n",
    "    def division(self, a, b):\n",
    "        cociente = 0 #declaramos cociente iniciado en 0\n",
    "        if b < 0:  #cambio de signo en caso de numero negativo\n",
    "            a = -a\n",
    "            b = -b\n",
    "        while a >= b:#mietras a sea mayoy o igual a b\n",
    "            a -= b #a valdra la resta de a menos b\n",
    "            cociente += 1 #elcontador cociente nos dice que cupo una vez mas\n",
    "        return cociente #regresamos el numero de veces que cupo b en a\n",
    "#el metodo de la clase Calculadora recibe dos parametros dinamicos en tipo o sobrecargados\n",
    "    def modulo(self, a, b):\n",
    "        return a % b #simplemente regresamos el valor de el residuo de a entre b\n",
    "\n",
    "#declaramos un objeto tipo Calculadora para iniciarlo\n",
    "calculadora = Calculadora()\n"
   ]
  },
  {
   "cell_type": "code",
   "execution_count": 3,
   "id": "8756ed6c",
   "metadata": {},
   "outputs": [
    {
     "name": "stdout",
     "output_type": "stream",
     "text": [
      "Resultado de la suma: 7\n"
     ]
    }
   ],
   "source": [
    "resultado = calculadora.suma(3, 4) #prueba suma\n",
    "print(\"Resultado de la suma:\", resultado)"
   ]
  },
  {
   "cell_type": "code",
   "execution_count": 4,
   "id": "938e9f23",
   "metadata": {},
   "outputs": [
    {
     "name": "stdout",
     "output_type": "stream",
     "text": [
      "Resultado de la multiplicacion: 12\n"
     ]
    }
   ],
   "source": [
    "resultado = calculadora.multiplicacion(3, 4) #prueba multiplicacion\n",
    "print(\"Resultado de la multiplicacion:\", resultado)"
   ]
  },
  {
   "cell_type": "code",
   "execution_count": 5,
   "id": "28b75966",
   "metadata": {},
   "outputs": [
    {
     "name": "stdout",
     "output_type": "stream",
     "text": [
      "Resultado de la division: 2\n"
     ]
    }
   ],
   "source": [
    "resultado = calculadora.division(10, 5) #prueba division\n",
    "print(\"Resultado de la division:\", resultado)"
   ]
  },
  {
   "cell_type": "code",
   "execution_count": 6,
   "id": "060813cd",
   "metadata": {},
   "outputs": [
    {
     "name": "stdout",
     "output_type": "stream",
     "text": [
      "Resultado del modulo: 2\n"
     ]
    }
   ],
   "source": [
    "resultado = calculadora.modulo(12, 5) #prueba modulo\n",
    "print(\"Resultado del modulo:\", resultado)"
   ]
  },
  {
   "cell_type": "code",
   "execution_count": 7,
   "id": "0a9df067",
   "metadata": {},
   "outputs": [
    {
     "name": "stdout",
     "output_type": "stream",
     "text": [
      "Resultado de la resta: 10\n"
     ]
    }
   ],
   "source": [
    "resultado = calculadora.resta(14, 4) #prueba resta\n",
    "print(\"Resultado de la resta:\", resultado)"
   ]
  },
  {
   "cell_type": "code",
   "execution_count": null,
   "id": "82266322",
   "metadata": {},
   "outputs": [],
   "source": []
  }
 ],
 "metadata": {
  "kernelspec": {
   "display_name": "Python 3 (ipykernel)",
   "language": "python",
   "name": "python3"
  },
  "language_info": {
   "codemirror_mode": {
    "name": "ipython",
    "version": 3
   },
   "file_extension": ".py",
   "mimetype": "text/x-python",
   "name": "python",
   "nbconvert_exporter": "python",
   "pygments_lexer": "ipython3",
   "version": "3.10.9"
  }
 },
 "nbformat": 4,
 "nbformat_minor": 5
}
